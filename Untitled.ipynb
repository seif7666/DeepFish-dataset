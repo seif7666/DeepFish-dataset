{
 "cells": [
  {
   "cell_type": "code",
   "execution_count": 31,
   "id": "6be982f9-18cd-4651-b07e-1ea4ed308868",
   "metadata": {},
   "outputs": [],
   "source": [
    "import json\n",
    "import numpy as np"
   ]
  },
  {
   "cell_type": "code",
   "execution_count": 3,
   "id": "c994c033-2607-42ef-9aa9-01653980fd81",
   "metadata": {},
   "outputs": [],
   "source": [
    "file= open('coco_format_fish_data.json')\n",
    "dataset= json.load(file)"
   ]
  },
  {
   "cell_type": "code",
   "execution_count": 18,
   "id": "00e56904-7676-4b6b-ac53-93a516f2156b",
   "metadata": {},
   "outputs": [
    {
     "name": "stdout",
     "output_type": "stream",
     "text": [
      "{'07': 0, '04': 0, '05': 0, '08': 0, '06': 0, '09': 0}\n"
     ]
    }
   ],
   "source": [
    "months= {}\n",
    "for i in dataset['images']:\n",
    "    file_name= i['file_name'].split('_')[1]\n",
    "    months[file_name]=0\n",
    "print(months)\n",
    "# print(dataset['images'][0])"
   ]
  },
  {
   "cell_type": "code",
   "execution_count": 19,
   "id": "9cc9dd7f-1de1-47b8-b954-e8b312809bb6",
   "metadata": {},
   "outputs": [
    {
     "name": "stdout",
     "output_type": "stream",
     "text": [
      "dict_keys(['images', 'annotations', 'info', 'licenses', 'categories'])\n"
     ]
    }
   ],
   "source": [
    "print(dataset.keys())"
   ]
  },
  {
   "cell_type": "code",
   "execution_count": 13,
   "id": "8fc7aafb-3ff8-4aa2-a57b-822a83d2b058",
   "metadata": {},
   "outputs": [],
   "source": [
    "import pandas as pd"
   ]
  },
  {
   "cell_type": "code",
   "execution_count": 35,
   "id": "f1bd53b2-9ec7-411b-b38c-262d5e5c1ca7",
   "metadata": {},
   "outputs": [
    {
     "name": "stdout",
     "output_type": "stream",
     "text": [
      "   license         file_name  width  height  id\n",
      "0        0  21_07_21-B16.jpg   4032    3024   0\n",
      "1        0  21_04_21-B41.jpg   4032    3024   1\n",
      "2        0   26_05_21-B9.jpg   4032    3024   2\n",
      "3        0  20_04_21-B14.jpg   4032    3024   3\n",
      "4        0   14_05_21-B6.jpg   3648    2736   4\n"
     ]
    },
    {
     "data": {
      "text/html": [
       "<div>\n",
       "<style scoped>\n",
       "    .dataframe tbody tr th:only-of-type {\n",
       "        vertical-align: middle;\n",
       "    }\n",
       "\n",
       "    .dataframe tbody tr th {\n",
       "        vertical-align: top;\n",
       "    }\n",
       "\n",
       "    .dataframe thead th {\n",
       "        text-align: right;\n",
       "    }\n",
       "</style>\n",
       "<table border=\"1\" class=\"dataframe\">\n",
       "  <thead>\n",
       "    <tr style=\"text-align: right;\">\n",
       "      <th></th>\n",
       "      <th>segmentation</th>\n",
       "      <th>iscrowd</th>\n",
       "      <th>image_id</th>\n",
       "      <th>bbox</th>\n",
       "      <th>area</th>\n",
       "      <th>id</th>\n",
       "      <th>category_id</th>\n",
       "    </tr>\n",
       "  </thead>\n",
       "  <tbody>\n",
       "    <tr>\n",
       "      <th>0</th>\n",
       "      <td>[[1832.6115, 680.2339, 1720.6115, 684.2339, 15...</td>\n",
       "      <td>0</td>\n",
       "      <td>871</td>\n",
       "      <td>[606.0, 446.2339, 1226.6115, 2124.7661]</td>\n",
       "      <td>956750.024299</td>\n",
       "      <td>1</td>\n",
       "      <td>0</td>\n",
       "    </tr>\n",
       "    <tr>\n",
       "      <th>1</th>\n",
       "      <td>[[2195.211, 988.8187, 2135.211, 900.8187, 1987...</td>\n",
       "      <td>0</td>\n",
       "      <td>871</td>\n",
       "      <td>[1327.0, 678.8187, 868.211, 1954.0]</td>\n",
       "      <td>851168.961635</td>\n",
       "      <td>2</td>\n",
       "      <td>0</td>\n",
       "    </tr>\n",
       "    <tr>\n",
       "      <th>2</th>\n",
       "      <td>[[2601.0, 2107.0, 2601.0, 2101.9861, 2570.3246...</td>\n",
       "      <td>0</td>\n",
       "      <td>871</td>\n",
       "      <td>[1949.0, 606.8033, 652.0, 2046.1967]</td>\n",
       "      <td>853642.308700</td>\n",
       "      <td>3</td>\n",
       "      <td>0</td>\n",
       "    </tr>\n",
       "    <tr>\n",
       "      <th>3</th>\n",
       "      <td>[[3153.4848, 2072.6682, 3145.9582, 1880.7396, ...</td>\n",
       "      <td>0</td>\n",
       "      <td>871</td>\n",
       "      <td>[2437.3292, 542.9875, 716.1556, 1915.5]</td>\n",
       "      <td>769454.532116</td>\n",
       "      <td>4</td>\n",
       "      <td>0</td>\n",
       "    </tr>\n",
       "    <tr>\n",
       "      <th>4</th>\n",
       "      <td>[[3707.6804, 1625.5206, 3706.0, 1623.0, 3705.0...</td>\n",
       "      <td>0</td>\n",
       "      <td>871</td>\n",
       "      <td>[3081.0, 441.6543, 626.6804, 1871.4244]</td>\n",
       "      <td>706304.906956</td>\n",
       "      <td>5</td>\n",
       "      <td>0</td>\n",
       "    </tr>\n",
       "  </tbody>\n",
       "</table>\n",
       "</div>"
      ],
      "text/plain": [
       "                                        segmentation  iscrowd  image_id  \\\n",
       "0  [[1832.6115, 680.2339, 1720.6115, 684.2339, 15...        0       871   \n",
       "1  [[2195.211, 988.8187, 2135.211, 900.8187, 1987...        0       871   \n",
       "2  [[2601.0, 2107.0, 2601.0, 2101.9861, 2570.3246...        0       871   \n",
       "3  [[3153.4848, 2072.6682, 3145.9582, 1880.7396, ...        0       871   \n",
       "4  [[3707.6804, 1625.5206, 3706.0, 1623.0, 3705.0...        0       871   \n",
       "\n",
       "                                      bbox           area  id  category_id  \n",
       "0  [606.0, 446.2339, 1226.6115, 2124.7661]  956750.024299   1            0  \n",
       "1      [1327.0, 678.8187, 868.211, 1954.0]  851168.961635   2            0  \n",
       "2     [1949.0, 606.8033, 652.0, 2046.1967]  853642.308700   3            0  \n",
       "3  [2437.3292, 542.9875, 716.1556, 1915.5]  769454.532116   4            0  \n",
       "4  [3081.0, 441.6543, 626.6804, 1871.4244]  706304.906956   5            0  "
      ]
     },
     "execution_count": 35,
     "metadata": {},
     "output_type": "execute_result"
    }
   ],
   "source": [
    "def getDataframe(dic):\n",
    "    return pd.DataFrame(dic).head()\n",
    "print(getDataframe(dataset['images']))\n",
    "getDataframe(dataset['annotations'])"
   ]
  },
  {
   "cell_type": "code",
   "execution_count": 28,
   "id": "80ed164e-43af-47d0-936a-e376c1e459e4",
   "metadata": {},
   "outputs": [
    {
     "data": {
      "text/plain": [
       "[{'supercategory': 'specie', 'id': 0, 'name': 'Pagrus pagrus'},\n",
       " {'supercategory': 'specie', 'id': 1, 'name': 'Tray1'},\n",
       " {'supercategory': 'specie', 'id': 2, 'name': 'Spicara maena'},\n",
       " {'supercategory': 'specie', 'id': 3, 'name': 'Mullus surmulentus'},\n",
       " {'supercategory': 'specie', 'id': 4, 'name': 'Pagellus erythrinus'},\n",
       " {'supercategory': 'specie', 'id': 5, 'name': 'Sphyraena sphyraena'},\n",
       " {'supercategory': 'specie', 'id': 6, 'name': 'Diplodus sargus'},\n",
       " {'supercategory': 'specie', 'id': 7, 'name': 'Symphodus tinca H'},\n",
       " {'supercategory': 'specie', 'id': 8, 'name': 'Symphodus tinca M'},\n",
       " {'supercategory': 'specie', 'id': 9, 'name': 'Diplodus anularis'},\n",
       " {'supercategory': 'specie', 'id': 10, 'name': 'Dentex dentex'},\n",
       " {'supercategory': 'specie', 'id': 11, 'name': 'Pagellus acarne'},\n",
       " {'supercategory': 'specie', 'id': 12, 'name': 'Sarda sarda'},\n",
       " {'supercategory': 'specie', 'id': 13, 'name': 'Scorpaena porcus'},\n",
       " {'supercategory': 'specie', 'id': 14, 'name': 'Spondyliosoma cantharus'},\n",
       " {'supercategory': 'specie', 'id': 15, 'name': 'Diplodus vulgaris'},\n",
       " {'supercategory': 'specie', 'id': 16, 'name': 'Serranus scriba'},\n",
       " {'supercategory': 'specie', 'id': 17, 'name': 'Sciaena umbra'},\n",
       " {'supercategory': 'specie', 'id': 18, 'name': 'Scorpaena notata'},\n",
       " {'supercategory': 'specie', 'id': 19, 'name': 'Labrus merula'},\n",
       " {'supercategory': 'specie', 'id': 20, 'name': 'Mullus barbatus'},\n",
       " {'supercategory': 'specie', 'id': 21, 'name': 'Torpedo marmorata'},\n",
       " {'supercategory': 'specie', 'id': 22, 'name': 'Tray2'},\n",
       " {'supercategory': 'specie', 'id': 23, 'name': 'Serranus cabrilla'},\n",
       " {'supercategory': 'specie', 'id': 24, 'name': 'Lithognathus mormyrus'},\n",
       " {'supercategory': 'specie', 'id': 25, 'name': 'Sepia officinalis'},\n",
       " {'supercategory': 'specie', 'id': 26, 'name': 'Zeus faber'},\n",
       " {'supercategory': 'specie', 'id': 27, 'name': 'Dactylopterus volitans'},\n",
       " {'supercategory': 'specie', 'id': 28, 'name': 'Species 50'},\n",
       " {'supercategory': 'specie', 'id': 29, 'name': 'Merlucius merlucius'},\n",
       " {'supercategory': 'specie', 'id': 30, 'name': 'Trachurus mediterraneus'},\n",
       " {'supercategory': 'specie', 'id': 31, 'name': 'Conger conger'},\n",
       " {'supercategory': 'specie', 'id': 32, 'name': 'Sparus aurata'},\n",
       " {'supercategory': 'specie', 'id': 33, 'name': 'Sarpa salpa'},\n",
       " {'supercategory': 'specie', 'id': 34, 'name': 'Symphodus mediterraneus'},\n",
       " {'supercategory': 'specie', 'id': 35, 'name': 'Scorpaena scrofa'},\n",
       " {'supercategory': 'specie', 'id': 36, 'name': 'Uranoscopus scaber'},\n",
       " {'supercategory': 'specie', 'id': 37, 'name': 'Raja radula'},\n",
       " {'supercategory': 'specie', 'id': 38, 'name': 'Phycis phycis'},\n",
       " {'supercategory': 'specie', 'id': 39, 'name': 'Species 52'},\n",
       " {'supercategory': 'specie', 'id': 40, 'name': 'Sardinella aurita'},\n",
       " {'supercategory': 'specie', 'id': 41, 'name': 'Chelidonichthys lastoviza'},\n",
       " {'supercategory': 'specie', 'id': 42, 'name': 'Seriola dumerilií'},\n",
       " {'supercategory': 'specie', 'id': 43, 'name': 'Raja asterias'},\n",
       " {'supercategory': 'specie', 'id': 44, 'name': 'Lophius sp'},\n",
       " {'supercategory': 'specie', 'id': 45, 'name': 'Muraena helena'},\n",
       " {'supercategory': 'specie', 'id': 46, 'name': 'Spicara smaris'},\n",
       " {'supercategory': 'specie', 'id': 47, 'name': 'Boops boops'},\n",
       " {'supercategory': 'specie', 'id': 48, 'name': 'Mustelus mustelus'},\n",
       " {'supercategory': 'specie', 'id': 49, 'name': 'Trachinus draco'},\n",
       " {'supercategory': 'specie', 'id': 50, 'name': 'Umbrina cirrosa'},\n",
       " {'supercategory': 'specie', 'id': 51, 'name': 'Balistes capriscus'},\n",
       " {'supercategory': 'specie', 'id': 52, 'name': 'Pomatomus saltatrix'},\n",
       " {'supercategory': 'specie', 'id': 53, 'name': 'Species 51'},\n",
       " {'supercategory': 'specie', 'id': 54, 'name': 'Pomadasys incisus'},\n",
       " {'supercategory': 'specie', 'id': 55, 'name': 'Species 49'},\n",
       " {'supercategory': 'specie', 'id': 56, 'name': 'Species 68'},\n",
       " {'supercategory': 'specie', 'id': 57, 'name': 'Scomber japonicus'},\n",
       " {'supercategory': 'specie', 'id': 58, 'name': 'Microchirus ocellatus'},\n",
       " {'supercategory': 'specie', 'id': 59, 'name': 'Species 55'},\n",
       " {'supercategory': 'specie', 'id': 60, 'name': 'Mugil cephalus'},\n",
       " {'supercategory': 'specie', 'id': 61, 'name': 'Species 53'},\n",
       " {'supercategory': 'specie', 'id': 62, 'name': 'Species 54'},\n",
       " {'supercategory': 'specie', 'id': 63, 'name': 'Labrus viridis'}]"
      ]
     },
     "execution_count": 28,
     "metadata": {},
     "output_type": "execute_result"
    }
   ],
   "source": [
    "newJson= open('fish_tray_json_labels.zip"
   ]
  }
 ],
 "metadata": {
  "kernelspec": {
   "display_name": "Python 3 (ipykernel)",
   "language": "python",
   "name": "python3"
  },
  "language_info": {
   "codemirror_mode": {
    "name": "ipython",
    "version": 3
   },
   "file_extension": ".py",
   "mimetype": "text/x-python",
   "name": "python",
   "nbconvert_exporter": "python",
   "pygments_lexer": "ipython3",
   "version": "3.11.4"
  }
 },
 "nbformat": 4,
 "nbformat_minor": 5
}
