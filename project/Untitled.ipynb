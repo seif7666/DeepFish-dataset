{
 "cells": [
  {
   "cell_type": "code",
   "execution_count": 1,
   "id": "294e6f14-314e-49d2-adc6-9fbe33e49efd",
   "metadata": {},
   "outputs": [],
   "source": [
    "from datasetLoader.EstimationDeepFish import EstimatedDeepFish\n",
    "from model.retinanet.model import resnet34\n",
    "import torch.nn as nn\n",
    "from torch.utils.data import DataLoader"
   ]
  },
  {
   "cell_type": "code",
   "execution_count": 2,
   "id": "d6c54f42-77f4-4670-8147-1bbeae49587f",
   "metadata": {},
   "outputs": [
    {
     "name": "stdout",
     "output_type": "stream",
     "text": [
      "3483 rows were removed from image dataset!\n",
      "2229\n",
      "Index(['Unnamed: 0', 'file', 'bbox', 'class', 'size (cm)'], dtype='object')\n"
     ]
    }
   ],
   "source": [
    "dataset= EstimatedDeepFish('..\\size_estimation_homography_DeepFish.csv','../DATASET/')"
   ]
  },
  {
   "cell_type": "code",
   "execution_count": 3,
   "id": "beee5aa7-120f-4c5f-a7f4-ce28ded152cf",
   "metadata": {},
   "outputs": [],
   "source": [
    "dataloader= DataLoader(dataset,16)"
   ]
  },
  {
   "cell_type": "code",
   "execution_count": 22,
   "id": "f7992f84-7648-4eb7-9359-a676536590e8",
   "metadata": {},
   "outputs": [
    {
     "name": "stdout",
     "output_type": "stream",
     "text": [
      "torch.Size([16, 3, 2736, 3648])\n"
     ]
    }
   ],
   "source": [
    "# print(next(iter(dataloader))['image'].shape)"
   ]
  },
  {
   "cell_type": "code",
   "execution_count": 14,
   "id": "c9d460db-2255-4edc-bc52-c20b0209bb10",
   "metadata": {},
   "outputs": [],
   "source": []
  },
  {
   "cell_type": "code",
   "execution_count": 4,
   "id": "c0170f28-4655-4d7c-a811-79f3049b68ec",
   "metadata": {},
   "outputs": [],
   "source": [
    "model= resnet34(1)"
   ]
  },
  {
   "cell_type": "code",
   "execution_count": null,
   "id": "d52c6f81-4685-475c-a107-021f4b23dbd3",
   "metadata": {},
   "outputs": [],
   "source": [
    "model(next(iter(dataloader)))"
   ]
  },
  {
   "cell_type": "code",
   "execution_count": null,
   "id": "0386a5d4-9195-4a60-aebd-ddbdee5fe3d5",
   "metadata": {},
   "outputs": [],
   "source": []
  }
 ],
 "metadata": {
  "kernelspec": {
   "display_name": "Python 3 (ipykernel)",
   "language": "python",
   "name": "python3"
  },
  "language_info": {
   "codemirror_mode": {
    "name": "ipython",
    "version": 3
   },
   "file_extension": ".py",
   "mimetype": "text/x-python",
   "name": "python",
   "nbconvert_exporter": "python",
   "pygments_lexer": "ipython3",
   "version": "3.11.4"
  }
 },
 "nbformat": 4,
 "nbformat_minor": 5
}
