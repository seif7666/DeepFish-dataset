{
 "cells": [
  {
   "cell_type": "code",
   "execution_count": 1,
   "id": "6be982f9-18cd-4651-b07e-1ea4ed308868",
   "metadata": {},
   "outputs": [],
   "source": [
    "import os\n",
    "import torch\n",
    "import torch.nn as nn\n",
    "from PIL import Image\n",
    "import pandas as pd\n",
    "from torch.utils.data import Dataset, DataLoader\n",
    "from torchvision import transforms\n",
    "import matplotlib.pyplot as plt"
   ]
  },
  {
   "cell_type": "code",
   "execution_count": 2,
   "id": "323f5160",
   "metadata": {},
   "outputs": [
    {
     "data": {
      "text/html": [
       "<div>\n",
       "<style scoped>\n",
       "    .dataframe tbody tr th:only-of-type {\n",
       "        vertical-align: middle;\n",
       "    }\n",
       "\n",
       "    .dataframe tbody tr th {\n",
       "        vertical-align: top;\n",
       "    }\n",
       "\n",
       "    .dataframe thead th {\n",
       "        text-align: right;\n",
       "    }\n",
       "</style>\n",
       "<table border=\"1\" class=\"dataframe\">\n",
       "  <thead>\n",
       "    <tr style=\"text-align: right;\">\n",
       "      <th></th>\n",
       "      <th>file</th>\n",
       "      <th>bbox</th>\n",
       "      <th>class</th>\n",
       "      <th>size (cm)</th>\n",
       "    </tr>\n",
       "  </thead>\n",
       "  <tbody>\n",
       "    <tr>\n",
       "      <th>0</th>\n",
       "      <td>26_05_21-B20</td>\n",
       "      <td>[2272.628996958517, 1685.2591150516498, 837.97...</td>\n",
       "      <td>Sepia officinalis</td>\n",
       "      <td>8.435085</td>\n",
       "    </tr>\n",
       "    <tr>\n",
       "      <th>1</th>\n",
       "      <td>26_05_21-B25</td>\n",
       "      <td>[1807.393678506843, 1585.7146585117644, 1094.7...</td>\n",
       "      <td>Mullus barbatus</td>\n",
       "      <td>16.211420</td>\n",
       "    </tr>\n",
       "    <tr>\n",
       "      <th>2</th>\n",
       "      <td>26_05_21-B25</td>\n",
       "      <td>[2648.726235342625, 1368.0723135423739, 345.68...</td>\n",
       "      <td>Mullus barbatus</td>\n",
       "      <td>14.422977</td>\n",
       "    </tr>\n",
       "    <tr>\n",
       "      <th>3</th>\n",
       "      <td>26_05_21-B25</td>\n",
       "      <td>[2845.1096085383197, 1180.704037335252, 426.91...</td>\n",
       "      <td>Mullus barbatus</td>\n",
       "      <td>15.604945</td>\n",
       "    </tr>\n",
       "    <tr>\n",
       "      <th>4</th>\n",
       "      <td>26_05_21-B25</td>\n",
       "      <td>[3192.0335090997633, 1235.4288323372514, 337.1...</td>\n",
       "      <td>Mullus barbatus</td>\n",
       "      <td>14.829357</td>\n",
       "    </tr>\n",
       "  </tbody>\n",
       "</table>\n",
       "</div>"
      ],
      "text/plain": [
       "           file                                               bbox  \\\n",
       "0  26_05_21-B20  [2272.628996958517, 1685.2591150516498, 837.97...   \n",
       "1  26_05_21-B25  [1807.393678506843, 1585.7146585117644, 1094.7...   \n",
       "2  26_05_21-B25  [2648.726235342625, 1368.0723135423739, 345.68...   \n",
       "3  26_05_21-B25  [2845.1096085383197, 1180.704037335252, 426.91...   \n",
       "4  26_05_21-B25  [3192.0335090997633, 1235.4288323372514, 337.1...   \n",
       "\n",
       "               class  size (cm)  \n",
       "0  Sepia officinalis   8.435085  \n",
       "1    Mullus barbatus  16.211420  \n",
       "2    Mullus barbatus  14.422977  \n",
       "3    Mullus barbatus  15.604945  \n",
       "4    Mullus barbatus  14.829357  "
      ]
     },
     "execution_count": 2,
     "metadata": {},
     "output_type": "execute_result"
    }
   ],
   "source": [
    "DATASET_PATH = \"./DATASET/\"\n",
    "data = pd.read_csv('annotations.csv', index_col=0)\n",
    "data.head()"
   ]
  },
  {
   "cell_type": "code",
   "execution_count": 3,
   "id": "2e955ddf",
   "metadata": {},
   "outputs": [
    {
     "data": {
      "text/plain": [
       "{'image': tensor([[[-1.6555, -1.6555, -1.6384,  ..., -0.8164, -0.7822, -0.7822],\n",
       "          [-1.6042, -1.6213, -1.6384,  ..., -0.7308, -0.7137, -0.7822],\n",
       "          [-1.6042, -1.6042, -1.6213,  ..., -0.7822, -0.7650, -0.8335],\n",
       "          ...,\n",
       "          [-1.0904, -1.0219, -1.0048,  ..., -1.2959, -1.3644, -1.3815],\n",
       "          [-1.0562, -1.0390, -1.0048,  ..., -1.2788, -1.3473, -1.3815],\n",
       "          [-1.0562, -1.0733, -1.0390,  ..., -1.2788, -1.3473, -1.3473]],\n",
       " \n",
       "         [[-1.5455, -1.5455, -1.5280,  ..., -0.9153, -0.9153, -0.9153],\n",
       "          [-1.4930, -1.5105, -1.5280,  ..., -0.8277, -0.8452, -0.9153],\n",
       "          [-1.4930, -1.4930, -1.5105,  ..., -0.8803, -0.8627, -0.9328],\n",
       "          ...,\n",
       "          [-1.0728, -1.0028, -0.9853,  ..., -1.2829, -1.3529, -1.3704],\n",
       "          [-1.0378, -1.0203, -0.9853,  ..., -1.2654, -1.3354, -1.3704],\n",
       "          [-1.0378, -1.0553, -1.0203,  ..., -1.2654, -1.3354, -1.3354]],\n",
       " \n",
       "         [[-1.2816, -1.2816, -1.2641,  ..., -0.6890, -0.6890, -0.6890],\n",
       "          [-1.2293, -1.2467, -1.2641,  ..., -0.6018, -0.6193, -0.6890],\n",
       "          [-1.2293, -1.2293, -1.2467,  ..., -0.6541, -0.6367, -0.7064],\n",
       "          ...,\n",
       "          [-0.9156, -0.8458, -0.8284,  ..., -1.1596, -1.2293, -1.2467],\n",
       "          [-0.9156, -0.8981, -0.8633,  ..., -1.1421, -1.2119, -1.2467],\n",
       "          [-0.9156, -0.9330, -0.8981,  ..., -1.1421, -1.2119, -1.2119]]]),\n",
       " 'bbox': tensor([2272.6289, 1685.2592,  837.9793,  636.7409]),\n",
       " 'size': 0    8.435085\n",
       " Name: size (cm), dtype: float64}"
      ]
     },
     "execution_count": 3,
     "metadata": {},
     "output_type": "execute_result"
    }
   ],
   "source": [
    "class DeepFishDataset(Dataset):\n",
    "    def __init__(self, root_dir: str, data: pd.DataFrame) -> None:\n",
    "        super().__init__()\n",
    "        self.root_dir = root_dir\n",
    "        self.data = data\n",
    "        self.transform = transforms.Compose([\n",
    "            transforms.ToTensor(),\n",
    "            transforms.Normalize(mean=[0.485, 0.456, 0.406],\n",
    "                                std=[0.229, 0.224, 0.225]),\n",
    "        ])\n",
    "        self.__filter()\n",
    "\n",
    "    def __filter(self) -> None:\n",
    "        empty = []\n",
    "        for i, image_name in enumerate(self.data['file']):\n",
    "            exists = self.__is_image_exist(image_name=image_name)\n",
    "            if not exists:\n",
    "                empty.append(i)\n",
    "        self.data.drop(index=empty, inplace=True)\n",
    "\n",
    "\n",
    "    def __is_image_exist(self, image_name: str) -> bool:\n",
    "        return os.path.exists(os.path.join(self.root_dir, f\"{image_name}.jpg\"))\n",
    "\n",
    "    def __getitem__(self, index: int):\n",
    "        image_name = self.__get_image_name(index)\n",
    "        image = self.__get_image(image_name)\n",
    "        bbox = self.__get_bbox(image_name)\n",
    "        size = self.__get_size(image_name)\n",
    "        \n",
    "        if self.transform:\n",
    "            image = self.transform(image)\n",
    "\n",
    "        return {\n",
    "            'image': image,\n",
    "            'bbox': bbox,\n",
    "            'size': size,\n",
    "        }\n",
    "\n",
    "    def __get_image_name(self, index: int) -> str:\n",
    "        return self.data.iloc[index]['file']\n",
    "\n",
    "    def __get_image(self, image_name: str) -> Image.Image:\n",
    "        return Image.open(os.path.join(self.root_dir, f\"{image_name}.jpg\")).convert(\"RGB\")\n",
    "\n",
    "    def __get_bbox(self, image_name: str) -> list:\n",
    "        strings = self.data[self.data['file'] == image_name]['bbox']\n",
    "        strings = strings.str[1:-1]\n",
    "        strings = strings.str.split(',')\n",
    "        bbox = [float(s) for s in strings[0]]\n",
    "        return torch.tensor(bbox, dtype=torch.float32)\n",
    "\n",
    "    def __get_size(self, image_name: str) -> float:\n",
    "        return self.data[self.data['file'] == image_name]['size (cm)']\n",
    "\n",
    "    def __len__(self) -> int:\n",
    "        return len(self.data)\n",
    "    \n",
    "dataset = DeepFishDataset(root_dir=DATASET_PATH, data=data)\n",
    "dataset[0]\n"
   ]
  },
  {
   "cell_type": "code",
   "execution_count": 4,
   "id": "8fb358a0",
   "metadata": {},
   "outputs": [],
   "source": [
    "train_size = int(0.8 * len(dataset))\n",
    "test_size = len(dataset) - train_size\n",
    "train_dataset, test_dataset = torch.utils.data.random_split(dataset, [train_size, test_size])\n",
    "\n",
    "train_loader = DataLoader(train_dataset, batch_size=32, shuffle=True)\n",
    "test_loader = DataLoader(test_dataset, batch_size=32, shuffle=True)"
   ]
  },
  {
   "cell_type": "code",
   "execution_count": 5,
   "id": "ed558df2",
   "metadata": {},
   "outputs": [
    {
     "data": {
      "text/plain": [
       "(3751, 3000, 751)"
      ]
     },
     "execution_count": 5,
     "metadata": {},
     "output_type": "execute_result"
    }
   ],
   "source": [
    "len(dataset), len(train_dataset), len(test_dataset)"
   ]
  },
  {
   "cell_type": "code",
   "execution_count": 9,
   "id": "b4920ac0",
   "metadata": {},
   "outputs": [
    {
     "ename": "KeyError",
     "evalue": "0",
     "output_type": "error",
     "traceback": [
      "\u001b[0;31m---------------------------------------------------------------------------\u001b[0m",
      "\u001b[0;31mKeyError\u001b[0m                                  Traceback (most recent call last)",
      "File \u001b[0;32m~/Work/Torpedo/ML/uwrc/venv/lib/python3.11/site-packages/pandas/core/indexes/base.py:3653\u001b[0m, in \u001b[0;36mIndex.get_loc\u001b[0;34m(self, key)\u001b[0m\n\u001b[1;32m   3652\u001b[0m \u001b[39mtry\u001b[39;00m:\n\u001b[0;32m-> 3653\u001b[0m     \u001b[39mreturn\u001b[39;00m \u001b[39mself\u001b[39;49m\u001b[39m.\u001b[39;49m_engine\u001b[39m.\u001b[39;49mget_loc(casted_key)\n\u001b[1;32m   3654\u001b[0m \u001b[39mexcept\u001b[39;00m \u001b[39mKeyError\u001b[39;00m \u001b[39mas\u001b[39;00m err:\n",
      "File \u001b[0;32m~/Work/Torpedo/ML/uwrc/venv/lib/python3.11/site-packages/pandas/_libs/index.pyx:147\u001b[0m, in \u001b[0;36mpandas._libs.index.IndexEngine.get_loc\u001b[0;34m()\u001b[0m\n",
      "File \u001b[0;32m~/Work/Torpedo/ML/uwrc/venv/lib/python3.11/site-packages/pandas/_libs/index.pyx:176\u001b[0m, in \u001b[0;36mpandas._libs.index.IndexEngine.get_loc\u001b[0;34m()\u001b[0m\n",
      "File \u001b[0;32mpandas/_libs/hashtable_class_helper.pxi:2606\u001b[0m, in \u001b[0;36mpandas._libs.hashtable.Int64HashTable.get_item\u001b[0;34m()\u001b[0m\n",
      "File \u001b[0;32mpandas/_libs/hashtable_class_helper.pxi:2630\u001b[0m, in \u001b[0;36mpandas._libs.hashtable.Int64HashTable.get_item\u001b[0;34m()\u001b[0m\n",
      "\u001b[0;31mKeyError\u001b[0m: 0",
      "\nThe above exception was the direct cause of the following exception:\n",
      "\u001b[0;31mKeyError\u001b[0m                                  Traceback (most recent call last)",
      "Cell \u001b[0;32mIn[9], line 1\u001b[0m\n\u001b[0;32m----> 1\u001b[0m train_loader\u001b[39m.\u001b[39;49mdataset[\u001b[39m0\u001b[39;49m]\n",
      "File \u001b[0;32m~/Work/Torpedo/ML/uwrc/venv/lib/python3.11/site-packages/torch/utils/data/dataset.py:298\u001b[0m, in \u001b[0;36mSubset.__getitem__\u001b[0;34m(self, idx)\u001b[0m\n\u001b[1;32m    296\u001b[0m \u001b[39mif\u001b[39;00m \u001b[39misinstance\u001b[39m(idx, \u001b[39mlist\u001b[39m):\n\u001b[1;32m    297\u001b[0m     \u001b[39mreturn\u001b[39;00m \u001b[39mself\u001b[39m\u001b[39m.\u001b[39mdataset[[\u001b[39mself\u001b[39m\u001b[39m.\u001b[39mindices[i] \u001b[39mfor\u001b[39;00m i \u001b[39min\u001b[39;00m idx]]\n\u001b[0;32m--> 298\u001b[0m \u001b[39mreturn\u001b[39;00m \u001b[39mself\u001b[39;49m\u001b[39m.\u001b[39;49mdataset[\u001b[39mself\u001b[39;49m\u001b[39m.\u001b[39;49mindices[idx]]\n",
      "Cell \u001b[0;32mIn[3], line 28\u001b[0m, in \u001b[0;36mDeepFishDataset.__getitem__\u001b[0;34m(self, index)\u001b[0m\n\u001b[1;32m     26\u001b[0m image_name \u001b[39m=\u001b[39m \u001b[39mself\u001b[39m\u001b[39m.\u001b[39m__get_image_name(index)\n\u001b[1;32m     27\u001b[0m image \u001b[39m=\u001b[39m \u001b[39mself\u001b[39m\u001b[39m.\u001b[39m__get_image(image_name)\n\u001b[0;32m---> 28\u001b[0m bbox \u001b[39m=\u001b[39m \u001b[39mself\u001b[39;49m\u001b[39m.\u001b[39;49m__get_bbox(image_name)\n\u001b[1;32m     29\u001b[0m size \u001b[39m=\u001b[39m \u001b[39mself\u001b[39m\u001b[39m.\u001b[39m__get_size(image_name)\n\u001b[1;32m     31\u001b[0m \u001b[39mif\u001b[39;00m \u001b[39mself\u001b[39m\u001b[39m.\u001b[39mtransform:\n",
      "Cell \u001b[0;32mIn[3], line 50\u001b[0m, in \u001b[0;36mDeepFishDataset.__get_bbox\u001b[0;34m(self, image_name)\u001b[0m\n\u001b[1;32m     48\u001b[0m strings \u001b[39m=\u001b[39m strings\u001b[39m.\u001b[39mstr[\u001b[39m1\u001b[39m:\u001b[39m-\u001b[39m\u001b[39m1\u001b[39m]\n\u001b[1;32m     49\u001b[0m strings \u001b[39m=\u001b[39m strings\u001b[39m.\u001b[39mstr\u001b[39m.\u001b[39msplit(\u001b[39m'\u001b[39m\u001b[39m,\u001b[39m\u001b[39m'\u001b[39m)\n\u001b[0;32m---> 50\u001b[0m bbox \u001b[39m=\u001b[39m [\u001b[39mfloat\u001b[39m(s) \u001b[39mfor\u001b[39;00m s \u001b[39min\u001b[39;00m strings[\u001b[39m0\u001b[39;49m]]\n\u001b[1;32m     51\u001b[0m \u001b[39mreturn\u001b[39;00m torch\u001b[39m.\u001b[39mtensor(bbox, dtype\u001b[39m=\u001b[39mtorch\u001b[39m.\u001b[39mfloat32)\n",
      "File \u001b[0;32m~/Work/Torpedo/ML/uwrc/venv/lib/python3.11/site-packages/pandas/core/series.py:1007\u001b[0m, in \u001b[0;36mSeries.__getitem__\u001b[0;34m(self, key)\u001b[0m\n\u001b[1;32m   1004\u001b[0m     \u001b[39mreturn\u001b[39;00m \u001b[39mself\u001b[39m\u001b[39m.\u001b[39m_values[key]\n\u001b[1;32m   1006\u001b[0m \u001b[39melif\u001b[39;00m key_is_scalar:\n\u001b[0;32m-> 1007\u001b[0m     \u001b[39mreturn\u001b[39;00m \u001b[39mself\u001b[39;49m\u001b[39m.\u001b[39;49m_get_value(key)\n\u001b[1;32m   1009\u001b[0m \u001b[39mif\u001b[39;00m is_hashable(key):\n\u001b[1;32m   1010\u001b[0m     \u001b[39m# Otherwise index.get_value will raise InvalidIndexError\u001b[39;00m\n\u001b[1;32m   1011\u001b[0m     \u001b[39mtry\u001b[39;00m:\n\u001b[1;32m   1012\u001b[0m         \u001b[39m# For labels that don't resolve as scalars like tuples and frozensets\u001b[39;00m\n",
      "File \u001b[0;32m~/Work/Torpedo/ML/uwrc/venv/lib/python3.11/site-packages/pandas/core/series.py:1116\u001b[0m, in \u001b[0;36mSeries._get_value\u001b[0;34m(self, label, takeable)\u001b[0m\n\u001b[1;32m   1113\u001b[0m     \u001b[39mreturn\u001b[39;00m \u001b[39mself\u001b[39m\u001b[39m.\u001b[39m_values[label]\n\u001b[1;32m   1115\u001b[0m \u001b[39m# Similar to Index.get_value, but we do not fall back to positional\u001b[39;00m\n\u001b[0;32m-> 1116\u001b[0m loc \u001b[39m=\u001b[39m \u001b[39mself\u001b[39;49m\u001b[39m.\u001b[39;49mindex\u001b[39m.\u001b[39;49mget_loc(label)\n\u001b[1;32m   1118\u001b[0m \u001b[39mif\u001b[39;00m is_integer(loc):\n\u001b[1;32m   1119\u001b[0m     \u001b[39mreturn\u001b[39;00m \u001b[39mself\u001b[39m\u001b[39m.\u001b[39m_values[loc]\n",
      "File \u001b[0;32m~/Work/Torpedo/ML/uwrc/venv/lib/python3.11/site-packages/pandas/core/indexes/base.py:3655\u001b[0m, in \u001b[0;36mIndex.get_loc\u001b[0;34m(self, key)\u001b[0m\n\u001b[1;32m   3653\u001b[0m     \u001b[39mreturn\u001b[39;00m \u001b[39mself\u001b[39m\u001b[39m.\u001b[39m_engine\u001b[39m.\u001b[39mget_loc(casted_key)\n\u001b[1;32m   3654\u001b[0m \u001b[39mexcept\u001b[39;00m \u001b[39mKeyError\u001b[39;00m \u001b[39mas\u001b[39;00m err:\n\u001b[0;32m-> 3655\u001b[0m     \u001b[39mraise\u001b[39;00m \u001b[39mKeyError\u001b[39;00m(key) \u001b[39mfrom\u001b[39;00m \u001b[39merr\u001b[39;00m\n\u001b[1;32m   3656\u001b[0m \u001b[39mexcept\u001b[39;00m \u001b[39mTypeError\u001b[39;00m:\n\u001b[1;32m   3657\u001b[0m     \u001b[39m# If we have a listlike key, _check_indexing_error will raise\u001b[39;00m\n\u001b[1;32m   3658\u001b[0m     \u001b[39m#  InvalidIndexError. Otherwise we fall through and re-raise\u001b[39;00m\n\u001b[1;32m   3659\u001b[0m     \u001b[39m#  the TypeError.\u001b[39;00m\n\u001b[1;32m   3660\u001b[0m     \u001b[39mself\u001b[39m\u001b[39m.\u001b[39m_check_indexing_error(key)\n",
      "\u001b[0;31mKeyError\u001b[0m: 0"
     ]
    }
   ],
   "source": []
  }
 ],
 "metadata": {
  "kernelspec": {
   "display_name": "Python 3 (ipykernel)",
   "language": "python",
   "name": "python3"
  },
  "language_info": {
   "codemirror_mode": {
    "name": "ipython",
    "version": 3
   },
   "file_extension": ".py",
   "mimetype": "text/x-python",
   "name": "python",
   "nbconvert_exporter": "python",
   "pygments_lexer": "ipython3",
   "version": "3.11.4"
  }
 },
 "nbformat": 4,
 "nbformat_minor": 5
}
