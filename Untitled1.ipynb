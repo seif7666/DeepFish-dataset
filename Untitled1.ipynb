{
 "cells": [
  {
   "cell_type": "code",
   "execution_count": 1,
   "id": "43dd55db-d240-4e30-8415-8998c9125d44",
   "metadata": {},
   "outputs": [],
   "source": [
    "from project.retinanet.model import resnet34\n",
    "from torchvision.transforms import Compose\n",
    "from project.datasetLoader.dataloader import EstimatedDeepFish,Resizer,Augmenter,Normalizer,Permuter\n",
    "from torch.utils.data import DataLoader\n",
    "import torch\n",
    "import torch.nn as nn\n",
    "# print(torch.cuda.is_available())\n",
    "# torch.cuda.is_available= lambda:False\n",
    "# print(torch.cuda.is_available())\n",
    "import collections\n",
    "import torch.optim as optim\n",
    "import numpy as np"
   ]
  },
  {
   "cell_type": "code",
   "execution_count": 2,
   "id": "400e8c43-0fe0-43c9-a532-0fef9b1ae87b",
   "metadata": {},
   "outputs": [
    {
     "name": "stdout",
     "output_type": "stream",
     "text": [
      "105 rows were removed from image dataset!\n",
      "203\n",
      "Index(['Unnamed: 0', 'file', 'bbox', 'class', 'size (cm)'], dtype='object')\n"
     ]
    }
   ],
   "source": [
    "dataset= EstimatedDeepFish('./Project/size_estimation_homography_DeepFish.csv', './Project/DATASET/',Compose([Normalizer(),Augmenter(),Resizer(),Permuter()]))\n",
    "dataloader= DataLoader(dataset,2)"
   ]
  },
  {
   "cell_type": "code",
   "execution_count": 3,
   "id": "b5a90749-8491-4af3-9380-9a209d12d692",
   "metadata": {},
   "outputs": [
    {
     "data": {
      "text/plain": [
       "{'img': tensor([[[[-1.4388e+00, -1.4320e+00, -1.4414e+00,  ...,  0.0000e+00,\n",
       "             0.0000e+00,  0.0000e+00],\n",
       "           [-1.4358e+00, -1.4367e+00, -1.4405e+00,  ...,  0.0000e+00,\n",
       "             0.0000e+00,  0.0000e+00],\n",
       "           [-1.4227e+00, -1.4256e+00, -1.4209e+00,  ...,  0.0000e+00,\n",
       "             0.0000e+00,  0.0000e+00],\n",
       "           ...,\n",
       "           [ 0.0000e+00,  0.0000e+00,  0.0000e+00,  ...,  0.0000e+00,\n",
       "             0.0000e+00,  0.0000e+00],\n",
       "           [ 0.0000e+00,  0.0000e+00,  0.0000e+00,  ...,  0.0000e+00,\n",
       "             0.0000e+00,  0.0000e+00],\n",
       "           [ 0.0000e+00,  0.0000e+00,  0.0000e+00,  ...,  0.0000e+00,\n",
       "             0.0000e+00,  0.0000e+00]],\n",
       " \n",
       "          [[-1.1313e+00, -1.1244e+00, -1.1340e+00,  ...,  0.0000e+00,\n",
       "             0.0000e+00,  0.0000e+00],\n",
       "           [-1.1283e+00, -1.1292e+00, -1.1331e+00,  ...,  0.0000e+00,\n",
       "             0.0000e+00,  0.0000e+00],\n",
       "           [-1.1149e+00, -1.1179e+00, -1.1130e+00,  ...,  0.0000e+00,\n",
       "             0.0000e+00,  0.0000e+00],\n",
       "           ...,\n",
       "           [ 0.0000e+00,  0.0000e+00,  0.0000e+00,  ...,  0.0000e+00,\n",
       "             0.0000e+00,  0.0000e+00],\n",
       "           [ 0.0000e+00,  0.0000e+00,  0.0000e+00,  ...,  0.0000e+00,\n",
       "             0.0000e+00,  0.0000e+00],\n",
       "           [ 0.0000e+00,  0.0000e+00,  0.0000e+00,  ...,  0.0000e+00,\n",
       "             0.0000e+00,  0.0000e+00]],\n",
       " \n",
       "          [[-9.0410e-01, -8.9720e-01, -9.0677e-01,  ...,  0.0000e+00,\n",
       "             0.0000e+00,  0.0000e+00],\n",
       "           [-9.0105e-01, -9.0201e-01, -9.0588e-01,  ...,  0.0000e+00,\n",
       "             0.0000e+00,  0.0000e+00],\n",
       "           [-8.8777e-01, -8.9073e-01, -8.8588e-01,  ...,  0.0000e+00,\n",
       "             0.0000e+00,  0.0000e+00],\n",
       "           ...,\n",
       "           [ 0.0000e+00,  0.0000e+00,  0.0000e+00,  ...,  0.0000e+00,\n",
       "             0.0000e+00,  0.0000e+00],\n",
       "           [ 0.0000e+00,  0.0000e+00,  0.0000e+00,  ...,  0.0000e+00,\n",
       "             0.0000e+00,  0.0000e+00],\n",
       "           [ 0.0000e+00,  0.0000e+00,  0.0000e+00,  ...,  0.0000e+00,\n",
       "             0.0000e+00,  0.0000e+00]]],\n",
       " \n",
       " \n",
       "         [[[-1.3760e+00, -1.3404e+00, -1.3398e+00,  ...,  0.0000e+00,\n",
       "             0.0000e+00,  0.0000e+00],\n",
       "           [-1.3777e+00, -1.3431e+00, -1.3378e+00,  ...,  0.0000e+00,\n",
       "             0.0000e+00,  0.0000e+00],\n",
       "           [-1.3759e+00, -1.3372e+00, -1.3428e+00,  ...,  0.0000e+00,\n",
       "             0.0000e+00,  0.0000e+00],\n",
       "           ...,\n",
       "           [ 0.0000e+00,  0.0000e+00,  0.0000e+00,  ...,  0.0000e+00,\n",
       "             0.0000e+00,  0.0000e+00],\n",
       "           [ 0.0000e+00,  0.0000e+00,  0.0000e+00,  ...,  0.0000e+00,\n",
       "             0.0000e+00,  0.0000e+00],\n",
       "           [ 0.0000e+00,  0.0000e+00,  0.0000e+00,  ...,  0.0000e+00,\n",
       "             0.0000e+00,  0.0000e+00]],\n",
       " \n",
       "          [[ 7.7966e-04,  3.7190e-02,  3.7590e-02,  ...,  0.0000e+00,\n",
       "             0.0000e+00,  0.0000e+00],\n",
       "           [-9.6415e-04,  3.4433e-02,  3.9860e-02,  ...,  0.0000e+00,\n",
       "             0.0000e+00,  0.0000e+00],\n",
       "           [ 9.0288e-04,  4.0449e-02,  3.4798e-02,  ...,  0.0000e+00,\n",
       "             0.0000e+00,  0.0000e+00],\n",
       "           ...,\n",
       "           [ 0.0000e+00,  0.0000e+00,  0.0000e+00,  ...,  0.0000e+00,\n",
       "             0.0000e+00,  0.0000e+00],\n",
       "           [ 0.0000e+00,  0.0000e+00,  0.0000e+00,  ...,  0.0000e+00,\n",
       "             0.0000e+00,  0.0000e+00],\n",
       "           [ 0.0000e+00,  0.0000e+00,  0.0000e+00,  ...,  0.0000e+00,\n",
       "             0.0000e+00,  0.0000e+00]],\n",
       " \n",
       "          [[ 7.8359e-01,  8.3335e-01,  8.3486e-01,  ...,  0.0000e+00,\n",
       "             0.0000e+00,  0.0000e+00],\n",
       "           [ 7.8186e-01,  8.3061e-01,  8.3706e-01,  ...,  0.0000e+00,\n",
       "             0.0000e+00,  0.0000e+00],\n",
       "           [ 7.8377e-01,  8.3660e-01,  8.3197e-01,  ...,  0.0000e+00,\n",
       "             0.0000e+00,  0.0000e+00],\n",
       "           ...,\n",
       "           [ 0.0000e+00,  0.0000e+00,  0.0000e+00,  ...,  0.0000e+00,\n",
       "             0.0000e+00,  0.0000e+00],\n",
       "           [ 0.0000e+00,  0.0000e+00,  0.0000e+00,  ...,  0.0000e+00,\n",
       "             0.0000e+00,  0.0000e+00],\n",
       "           [ 0.0000e+00,  0.0000e+00,  0.0000e+00,  ...,  0.0000e+00,\n",
       "             0.0000e+00,  0.0000e+00]]]]),\n",
       " 'annot': tensor([[[113.4997,   8.2222, 314.2222, 427.3333,   0.0000],\n",
       "          [205.0023,  92.4827, 492.5850, 489.1111,   0.0000],\n",
       "          [393.7778,  89.8749, 658.4683, 481.4929,   0.0000],\n",
       "          [  0.0000,   0.0000,   0.0000,   0.0000,   0.0000],\n",
       "          [  0.0000,   0.0000,   0.0000,   0.0000,   0.0000],\n",
       "          [  0.0000,   0.0000,   0.0000,   0.0000,   0.0000],\n",
       "          [  0.0000,   0.0000,   0.0000,   0.0000,   0.0000],\n",
       "          [  0.0000,   0.0000,   0.0000,   0.0000,   0.0000],\n",
       "          [  0.0000,   0.0000,   0.0000,   0.0000,   0.0000],\n",
       "          [  0.0000,   0.0000,   0.0000,   0.0000,   0.0000],\n",
       "          [  0.0000,   0.0000,   0.0000,   0.0000,   0.0000],\n",
       "          [  0.0000,   0.0000,   0.0000,   0.0000,   0.0000],\n",
       "          [  0.0000,   0.0000,   0.0000,   0.0000,   0.0000]],\n",
       " \n",
       "         [[ 99.5556, 129.6701, 268.1209, 595.8329,   0.0000],\n",
       "          [232.8889,  22.3306, 427.3630, 428.8889,   0.0000],\n",
       "          [378.6667,   1.3333, 556.0842, 437.1361,   0.0000],\n",
       "          [528.4445, 124.4444, 697.9106, 537.1111,   0.0000],\n",
       "          [  0.0000,   0.0000,   0.0000,   0.0000,   0.0000],\n",
       "          [  0.0000,   0.0000,   0.0000,   0.0000,   0.0000],\n",
       "          [  0.0000,   0.0000,   0.0000,   0.0000,   0.0000],\n",
       "          [  0.0000,   0.0000,   0.0000,   0.0000,   0.0000],\n",
       "          [  0.0000,   0.0000,   0.0000,   0.0000,   0.0000],\n",
       "          [  0.0000,   0.0000,   0.0000,   0.0000,   0.0000],\n",
       "          [  0.0000,   0.0000,   0.0000,   0.0000,   0.0000],\n",
       "          [  0.0000,   0.0000,   0.0000,   0.0000,   0.0000],\n",
       "          [  0.0000,   0.0000,   0.0000,   0.0000,   0.0000]]]),\n",
       " 'scale': tensor([0.2222, 0.2222], dtype=torch.float64),\n",
       " 'size': tensor([[[27.7382],\n",
       "          [28.2686],\n",
       "          [26.3925],\n",
       "          [ 0.0000],\n",
       "          [ 0.0000],\n",
       "          [ 0.0000],\n",
       "          [ 0.0000],\n",
       "          [ 0.0000],\n",
       "          [ 0.0000],\n",
       "          [ 0.0000],\n",
       "          [ 0.0000],\n",
       "          [ 0.0000],\n",
       "          [ 0.0000]],\n",
       " \n",
       "         [[27.0074],\n",
       "          [25.9200],\n",
       "          [30.9316],\n",
       "          [25.4585],\n",
       "          [ 0.0000],\n",
       "          [ 0.0000],\n",
       "          [ 0.0000],\n",
       "          [ 0.0000],\n",
       "          [ 0.0000],\n",
       "          [ 0.0000],\n",
       "          [ 0.0000],\n",
       "          [ 0.0000],\n",
       "          [ 0.0000]]]),\n",
       " 'number': tensor([3, 4])}"
      ]
     },
     "execution_count": 3,
     "metadata": {},
     "output_type": "execute_result"
    }
   ],
   "source": [
    "next(iter(dataloader))"
   ]
  },
  {
   "cell_type": "code",
   "execution_count": 4,
   "id": "1f2c1fac-deb8-4290-b6f8-5634cc36e5fc",
   "metadata": {},
   "outputs": [
    {
     "data": {
      "text/plain": [
       "(tensor([1.1294], grad_fn=<MeanBackward1>),\n",
       " tensor([1.0235], grad_fn=<MeanBackward1>))"
      ]
     },
     "execution_count": 4,
     "metadata": {},
     "output_type": "execute_result"
    }
   ],
   "source": [
    "class PipelineModel(nn.Module):\n",
    "\n",
    "    def __init__(self):\n",
    "        super().__init__()\n",
    "        self.detector= resnet34(num_classes=1,pretrained=True)\n",
    "        # self.detector.eval()\n",
    "\n",
    "    def forward(self,x):\n",
    "        # print(x['image'].shape)\n",
    "        # images= [x['image'][i] for i in range(x['image'].shape[0])]\n",
    "        # targets=[]\n",
    "        # for i in range(len(images)):\n",
    "        #     number= x['number'][i]\n",
    "        #     tensor= torch.zeros(number)\n",
    "        #     dictionary= {\n",
    "        #         'boxes':x['boxes'][i,:number],\n",
    "        #         'labels':tensor\n",
    "        #         # 'labels': x['label'][i,:number].view((-1,1)).to(torch.int16)\n",
    "        #     }\n",
    "        #     targets.append(dictionary)\n",
    "        # print(x)\n",
    "        return self.detector((x['img'],x['annot']))\n",
    "# del model\n",
    "model= PipelineModel()\n",
    "model(next(iter(dataloader)))"
   ]
  },
  {
   "cell_type": "code",
   "execution_count": 5,
   "id": "84c04c6f-d590-4e24-aaec-0d1491015b15",
   "metadata": {},
   "outputs": [],
   "source": [
    "optimizer = optim.Adam(model.parameters(), lr=1e-5)\n",
    "scheduler = optim.lr_scheduler.ReduceLROnPlateau(optimizer, patience=3, verbose=True)\n",
    "loss_hist = collections.deque(maxlen=500)"
   ]
  },
  {
   "cell_type": "code",
   "execution_count": 6,
   "id": "119a9183-dac9-4d04-9d40-c2f9dac4d707",
   "metadata": {},
   "outputs": [
    {
     "name": "stdout",
     "output_type": "stream",
     "text": [
      "Num training images: 61\n",
      "Epoch: 0 | Iteration: 0 | Classification loss: 1.12941 | Regression loss: 1.01234 | Running loss: 2.14175\n",
      "finished\n"
     ]
    }
   ],
   "source": [
    "model.detector.train()\n",
    "# model.detector.module.freeze_bn()\n",
    "print('Num training images: {}'.format(len(dataset)))\n",
    "for epoch_num in range(1):\n",
    "    model.detector.train()\n",
    "    # model.detector.module.freeze_bn()\n",
    "    epoch_loss = []\n",
    "    for iter_num, data in enumerate(dataloader):\n",
    "        try:\n",
    "            optimizer.zero_grad()\n",
    "            if torch.cuda.is_available():\n",
    "                classification_loss, regression_loss = model([data['img'].cuda().float(), data['annot']])\n",
    "            else:\n",
    "                classification_loss, regression_loss = model(data)\n",
    "            classification_loss = classification_loss.mean()\n",
    "            regression_loss = regression_loss.mean()\n",
    "            loss = classification_loss + regression_loss\n",
    "            if bool(loss == 0):\n",
    "                continue\n",
    "            loss.backward()\n",
    "            torch.nn.utils.clip_grad_norm_(model.parameters(), 0.1)\n",
    "            optimizer.step()\n",
    "            loss_hist.append(float(loss))\n",
    "            epoch_loss.append(float(loss))\n",
    "            print(\n",
    "                'Epoch: {} | Iteration: {} | Classification loss: {:1.5f} | Regression loss: {:1.5f} | Running loss: {:1.5f}'.format(\n",
    "                    epoch_num, iter_num, float(classification_loss), float(regression_loss), np.mean(loss_hist)))\n",
    "            del classification_loss\n",
    "            del regression_loss\n",
    "            print('finished')\n",
    "            break\n",
    "        except Exception as e:\n",
    "            print(e)\n",
    "            continue\n",
    "\n",
    "#     if parser.dataset == 'coco':\n",
    "\n",
    "#         print('Evaluating dataset')\n",
    "\n",
    "#         coco_eval.evaluate_coco(dataset_val, retinanet)\n",
    "\n",
    "#     elif parser.dataset == 'csv' and parser.csv_val is not None:\n",
    "\n",
    "#         print('Evaluating dataset')\n",
    "\n",
    "#         mAP = csv_eval.evaluate(dataset_val, retinanet)\n",
    "\n",
    "#     scheduler.step(np.mean(epoch_loss))\n",
    "\n",
    "#     torch.save(retinanet.module, '{}_retinanet_{}.pt'.format(parser.dataset, epoch_num))\n",
    "\n",
    "# retinanet.eval()\n",
    "\n",
    "# torch.save(retinanet, 'model_final.pt')"
   ]
  },
  {
   "cell_type": "code",
   "execution_count": 6,
   "id": "5527940c-3510-4ce2-b67f-f441a401d34a",
   "metadata": {},
   "outputs": [
    {
     "data": {
      "text/plain": [
       "1"
      ]
     },
     "execution_count": 6,
     "metadata": {},
     "output_type": "execute_result"
    }
   ],
   "source": [
    "import gc\n",
    "gc.collect()\n",
    "import ctypes\n",
    "libc = ctypes.CDLL(\"libc.so.6\") # clearing cache \n",
    "libc.malloc_trim(0)"
   ]
  },
  {
   "cell_type": "code",
   "execution_count": 4,
   "id": "78b56b5b-84e9-4b6a-afbc-90598d08c127",
   "metadata": {},
   "outputs": [],
   "source": [
    "x= torch.Tensor([1,2,3,4])"
   ]
  },
  {
   "cell_type": "code",
   "execution_count": 5,
   "id": "ded7358a-bd5c-4d41-bfc5-fa9319443a41",
   "metadata": {},
   "outputs": [
    {
     "data": {
      "text/plain": [
       "tensor([1., 2., 3., 4.])"
      ]
     },
     "execution_count": 5,
     "metadata": {},
     "output_type": "execute_result"
    }
   ],
   "source": [
    "x.clone()"
   ]
  }
 ],
 "metadata": {
  "kernelspec": {
   "display_name": "Python 3 (ipykernel)",
   "language": "python",
   "name": "python3"
  },
  "language_info": {
   "codemirror_mode": {
    "name": "ipython",
    "version": 3
   },
   "file_extension": ".py",
   "mimetype": "text/x-python",
   "name": "python",
   "nbconvert_exporter": "python",
   "pygments_lexer": "ipython3",
   "version": "3.10.12"
  }
 },
 "nbformat": 4,
 "nbformat_minor": 5
}
